{
 "cells": [
  {
   "cell_type": "markdown",
   "metadata": {},
   "source": [
    "![](https://www.python.org/static/community_logos/python-logo-generic.svg)\n",
    "\n",
    "# Cours et exercices d'algorithmique - feuille 1\n",
    "\n",
    "## Python et les entiers, mieux qu'une calculatrice.\n",
    "\n",
    "Dans cette feuille de cours et exercices, on apprend à afficher du texte simple, et faire des calculs élémentaires.   \n",
    "On fera mieux que la calculatrice.\n",
    "\n",
    "---\n",
    "\n",
    "$$\\sum_{n=1}^{+\\infty}{\\frac{1}{n^2}} = \\frac{\\pi^2}{6}$$\n",
    "\n",
    "---\n"
   ]
  },
  {
   "cell_type": "code",
   "execution_count": 11,
   "metadata": {},
   "outputs": [
    {
     "name": "stdout",
     "output_type": "stream",
     "text": [
      "1.5543122344752192e-15\n"
     ]
    }
   ],
   "source": [
    "from math import pi\n",
    "x = 10**3\n",
    "print(sum(1 / n**2  for n in range(1, x+1))  - (pi**2 / 6 - 1/x + 1/2/x**2 - 1/6/x**3 + 1/30/x**5) )\n"
   ]
  },
  {
   "cell_type": "markdown",
   "metadata": {},
   "source": [
    "### 1) Instruction de bienvenue ; une tradition\n",
    "Pour lancer une cellule de calcul ( `In [ ]:` ), cliquer-la et taper <kbd>MAJ.+ENTRÉE</kbd> (* <kbd>SHIFT+RETURN</kbd> in english*)"
   ]
  },
  {
   "cell_type": "code",
   "execution_count": null,
   "metadata": {
    "collapsed": true
   },
   "outputs": [],
   "source": [
    "print(\"Hello World!\")\n",
    "print(\"Bonjour à tous !\")\n",
    "print(\"Deux fois trois, fois sept est égal à\", 2*3*7)"
   ]
  },
  {
   "cell_type": "markdown",
   "metadata": {},
   "source": [
    "### 2) Les 3 opérations élémentaires + - ×\n",
    "\n",
    "L'addition <kbd>+</kbd>, la soustraction <kbd>-</kbd> et la multiplication <kbd>*</kbd> respectent les règles de priorités.\n",
    "\n",
    "> Les multiplications doivent être *explicites*.\n",
    "\n",
    "**Exemple**"
   ]
  },
  {
   "cell_type": "code",
   "execution_count": null,
   "metadata": {
    "collapsed": true
   },
   "outputs": [],
   "source": [
    "7 + 13*(7-5)   # Il est conseillé, comme en maths, d'espacer les opérations non prioritaires"
   ]
  },
  {
   "cell_type": "markdown",
   "metadata": {},
   "source": [
    "> **Exercice.** Quel est le produit de la somme de 171 et 186 par 93 ?"
   ]
  },
  {
   "cell_type": "code",
   "execution_count": null,
   "metadata": {
    "collapsed": true
   },
   "outputs": [],
   "source": [
    "# Compléter en dessous l'expression numérique\n",
    " 171 186 93\n",
    "# puis appuyer sur SHIFT+RETURN"
   ]
  },
  {
   "cell_type": "markdown",
   "metadata": {},
   "source": [
    ">**Exercice.** Quelle est la différence entre le produit de 6 par 7 et la somme de 28 et 39 ?"
   ]
  },
  {
   "cell_type": "code",
   "execution_count": null,
   "metadata": {
    "collapsed": true
   },
   "outputs": [],
   "source": []
  },
  {
   "cell_type": "markdown",
   "metadata": {},
   "source": [
    ">**Exercice.** Pour un match, 149 bus pleins arrivent, avec 53 supporters chacun qui entrent les premiers dans un stade de 10000 places. Un autre bus arrive avec 47 supporters qui s'installent ensuite. Combien reste-t-il de places pour les suivants ?"
   ]
  },
  {
   "cell_type": "code",
   "execution_count": null,
   "metadata": {
    "collapsed": true
   },
   "outputs": [],
   "source": []
  },
  {
   "cell_type": "markdown",
   "metadata": {},
   "source": [
    "### 3) Premières variables et leur affichage\n",
    "\n",
    "Pour conserver et utiliser un résultat en mémoire, on utilise une variable et une affectation avec <kbd>=</kbd>.   \n",
    "Une variable s'écrit avec une ou plusieurs lettres, et/ou chiffres, *sans commencer par un chiffre*.   \n",
    "Avec <kbd>print</kbd>, on peut afficher du texte, puis un nombre, et enchaîner en séparant avec une virgule <kbd>,</kbd>.\n",
    "\n",
    "**Exemple**"
   ]
  },
  {
   "cell_type": "code",
   "execution_count": null,
   "metadata": {
    "collapsed": true
   },
   "outputs": [],
   "source": [
    "a = 3         # a est affecté à 3\n",
    "x = 20 - a*5  # x est affecté à 5\n",
    "x = 2*x + 1   # x est réaffecté à 11\n",
    "y = x*x - 1\n",
    "print(\"Le résultat final est\", y)"
   ]
  },
  {
   "cell_type": "markdown",
   "metadata": {},
   "source": [
    "> **Exercice.** On commence avec $x=12$ et $y=5$.   \n",
    "> On répète trois fois :\n",
    "> > - $x \\leftarrow x\\times y$, [i.e.](https://fr.wikipedia.org/wiki/Id_est) dans $x$ on place le produit de $x$ par $y$\n",
    "> > - $y \\leftarrow x+y$, i.e. dans $y$ on place la somme de $x$ et $y$\n",
    "\n",
    "> Afficher $x$ et $y$\n"
   ]
  },
  {
   "cell_type": "code",
   "execution_count": null,
   "metadata": {
    "collapsed": true
   },
   "outputs": [],
   "source": [
    "x, y = 12, 5   # Il s'agit là d'une affectation parallèle, c'est légal.\n",
    "\n",
    "# Continuer\n",
    "\n",
    "# Remarque : Les commentaires commencent par un croisillon '#', ce n'est pas un dièse.\n",
    "\n"
   ]
  },
  {
   "cell_type": "markdown",
   "metadata": {},
   "source": [
    "### 4) Il y a deux divisions :\n",
    "\n",
    "Pour $a$ et $b$ des entiers, avec $b \\neq 0$. On dispose de :\n",
    "- la [division euclidienne](https://fr.wikipedia.org/wiki/Division_euclidienne) de $a$ par $b$, avec un quotient entier et un reste entier inférieur à $b$\n",
    "    - le quotient s'obtient avec <kbd>a//b</kbd>\n",
    "    - le reste s'obtient avec <kbd>a%b</kbd>\n",
    "    \n",
    "- la [division](https://fr.wikipedia.org/wiki/Division) non abrégée (ou longue) de $a$ par $b$, sans reste, avec <kbd>a/b</kbd>. Dans ce cas, pour Python, le résultat n'a plus le status d'entier, même si la division tombe juste.\n",
    "\n",
    "**Exemple**"
   ]
  },
  {
   "cell_type": "code",
   "execution_count": null,
   "metadata": {
    "collapsed": true
   },
   "outputs": [],
   "source": [
    "print(\"Le quotient de 157 divisé par 10 est égal à\", 157//10)\n",
    "print(\"Le reste dans 157 divisé par 10 est égal à\", 157%10)\n",
    "print() # pour obtenir une ligne vide\n",
    "\n",
    "print(\"La division   entière   de 420 par 10 a pour résultat : 420 // 10 =\", 420 // 10 )\n",
    "print(\"La division non abrégée de 420 par 10 a pour résultat : 420 /  10 =\", 420 /  10 )\n",
    "print(\"La division non abrégée de 421 par 10 a pour résultat : 421 /  10 =\", 421 /  10 )"
   ]
  },
  {
   "cell_type": "markdown",
   "metadata": {},
   "source": [
    "> **Exercice** « Le reste dans $157$ divisé par $10$ est égal à $7$ » ; on a obtenu le chiffre des unités de $157$ en prenant le reste de la division par $10$. Compléter la deuxième ligne du programme pour afficher les deux derniers chiffres d'un nombres $a$."
   ]
  },
  {
   "cell_type": "code",
   "execution_count": null,
   "metadata": {
    "collapsed": true
   },
   "outputs": [],
   "source": [
    "a = 547899547 # le nombre a est fixé, par exemple\n",
    "y = a # <---- À vous de modifier cette ligne, sans écrire 47 bien sûr !!!\n",
    "print(y) # doit afficher 47, seulement"
   ]
  },
  {
   "cell_type": "markdown",
   "metadata": {},
   "source": [
    "> **Remarque :** En informatique, influencé par le monde anglo-saxon, on utilise le point comme séparateur décimal, et la virgule comme séparateur dans une liste. Il ne faut pas les confondre, au risque d'avoir une erreur [sémantique](https://fr.wikipedia.org/wiki/S%C3%A9mantique) qui peut se produire pour les Français :"
   ]
  },
  {
   "cell_type": "code",
   "execution_count": null,
   "metadata": {
    "collapsed": true
   },
   "outputs": [],
   "source": [
    "55.6 + 21.13 # somme de deux nombres à virgule"
   ]
  },
  {
   "cell_type": "code",
   "execution_count": null,
   "metadata": {
    "collapsed": true
   },
   "outputs": [],
   "source": [
    "55,6 + 21,13 # un triplet d'entiers : 55 puis 6+21, et enfin 13"
   ]
  },
  {
   "cell_type": "markdown",
   "metadata": {},
   "source": [
    "### 5) La puissance s'obtient avec <kbd>**</kbd>\n",
    "Un gros avantage de Python sur la calculatrice, c'est sa capacité à travailler avec des entiers aussi grands que la mémoire de l'ordinateur le permet, de grands entiers donc. \n",
    "\n",
    "Afficher un nombre gigantesque est long, mais on peut travailler assez rapidement avec, sans l'afficher !!!\n",
    "\n",
    "**Exemples**"
   ]
  },
  {
   "cell_type": "code",
   "execution_count": null,
   "metadata": {
    "collapsed": true
   },
   "outputs": [],
   "source": [
    "print(\"2 exposant 3 :\", 2**3)\n",
    "print(\"5 exposant 7 :\", 5**7)\n",
    "print(\"9 exposant 11 :\", 9**11)\n",
    "print()\n",
    "\n",
    "print(\"237 exposant 143 :\", 237**143)"
   ]
  },
  {
   "cell_type": "markdown",
   "metadata": {},
   "source": [
    "> **Exercice.** Compléter le script suivant :"
   ]
  },
  {
   "cell_type": "code",
   "execution_count": null,
   "metadata": {
    "collapsed": true
   },
   "outputs": [],
   "source": [
    "a, b = 153, 659\n",
    "y = 0 # <--- cette ligne est à modifier, seulement cette ligne\n",
    "print(\"le chiffre des milliers de a à la puissance b est :\", y)"
   ]
  },
  {
   "cell_type": "markdown",
   "metadata": {},
   "source": [
    ">**Exercice.** Avec $a=12345$ et $b=98765$, le nombre $y = a^b$ possède $404097$ chiffres. \n",
    "\n",
    "> L'affichage de ce nombre en entier prendrait beaucoup de place, et surtout énormément de temps.\n",
    "\n",
    "> Quel est le reste de la division de $y$ par $753$ ?"
   ]
  },
  {
   "cell_type": "code",
   "execution_count": null,
   "metadata": {
    "collapsed": true
   },
   "outputs": [],
   "source": [
    "a, b = 12345, 98765\n",
    "# À compléter"
   ]
  },
  {
   "cell_type": "markdown",
   "metadata": {},
   "source": [
    "> **Remarque :** après le BAC, vous apprendrez des techniques plus puissantes en [arithmétique modulaire](https://fr.wikipedia.org/wiki/Arithm%C3%A9tique_modulaire).\n",
    "\n",
    "> Ces techniques sont utilisées en permanence en [cryptographie](https://fr.wikipedia.org/wiki/Cryptographie), par exemple."
   ]
  },
  {
   "cell_type": "markdown",
   "metadata": {},
   "source": [
    "### 6) En informatique, on utilise massivement l'anglais\n",
    "\n",
    "\n",
    "| *English*       | Français |\n",
    "| ---------------:|:---------|\n",
    "| *print*         | affiche |\n",
    "| *assignement*   | affectation |\n",
    "| *coma*          | virgule |\n",
    "| *to the power*  | à la puissance |\n",
    "| *integer*       | entier |\n",
    "| * digit *       | chiffre |\n",
    "| * sharp * (#)   | croisillon (#) |\n",
    "| * library *     | bibliothèque |\n",
    "\n",
    "Attention aux faux amis, en informatique :\n",
    "- on ne dit pas 'assignation', mais 'affectation' ; assignation est un terme juridique\n",
    "- on ne dit pas 'digital', mais 'numérique' ; digital est en rapport avec les doigts de la main\n",
    "- on ne dit pas 'librairie', mais bibliothèque ; un ensemble de fichiers contenant des morceaux de codes utilisés souvent. 'Librairie' se traduit par '*(UK) Bookshop*' ou '*(US) Bookstore*'\n",
    "- On ne devrait pas dire 'hashtag', ni 'dièse' pour #, mais '*sharp*' ou 'croisillon'"
   ]
  },
  {
   "cell_type": "code",
   "execution_count": null,
   "metadata": {
    "collapsed": true
   },
   "outputs": [],
   "source": []
  }
 ],
 "metadata": {
  "kernelspec": {
   "display_name": "Python 3",
   "language": "python",
   "name": "python3"
  },
  "language_info": {
   "codemirror_mode": {
    "name": "ipython",
    "version": 3
   },
   "file_extension": ".py",
   "mimetype": "text/x-python",
   "name": "python",
   "nbconvert_exporter": "python",
   "pygments_lexer": "ipython3",
   "version": "3.6.3"
  }
 },
 "nbformat": 4,
 "nbformat_minor": 2
}
