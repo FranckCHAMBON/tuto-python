{
 "cells": [
  {
   "cell_type": "markdown",
   "metadata": {},
   "source": [
    "![](https://www.python.org/static/community_logos/python-logo-generic.svg)\n",
    "\n",
    "# Cours et exercices d'algorithmique - feuille 2\n",
    "\n",
    "## Python et les variables, mieux qu'une calculatrice.\n",
    "\n",
    "Dans cette feuille de cours et exercices, on apprend à utiliser des variables, mais aussi on découvre les premières listes.\n"
   ]
  },
  {
   "cell_type": "markdown",
   "metadata": {
    "collapsed": true
   },
   "source": [
    "### 1) Les noms de variables\n",
    "On ne peut pas choisir n’importe quel nom pour une variable.\n",
    "De manière synthétique, on a :\n",
    "- **Conseil :** N’utiliser que les caractères : `a→z`, `A→Z` , `0→9` et `_`\n",
    "- **Obligatoire :** Ne pas débuter par un chiffre\n",
    "- **Conseil :** <kbd>choisir_un_nom_de_variable_lisible</kbd>, <kbd>nepaschoisirunnomdevariableillisible</kbd>, <kbd>choisirUnNomDeVariablePlusLisible</kbd>\n",
    "- *Exemples :* <kbd>nombre_dOr</kbd>, <kbd>a15</kbd> sont valides et lisibles\n",
    "- *Attention :* <kbd>niter</kbd>, <kbd>nIter</kbd>, <kbd>NITER</kbd> sont trois variables différentes, la seconde étant la plus lisible des trois\n",
    "- *remarque :* les lettres Unicode sont autorisées comme <kbd>Çå_Ãĺòŕš</kbd>, mais non conseillées\n",
    "\n",
    "> Il y a **33 mots réservés** qui ne peuvent pas être utilisés pour des variables.\n",
    "\n",
    "> |           |           |           |           |         |\n",
    "> |:----------|:----------|:----------|:----------|:--------|\n",
    "> |`False`    |`class`    |`finally`  |`is`       |`return` |\n",
    "> |`None`     |`continue` |`for`      |`lambda`   |`try`    |\n",
    "> |`True`     |`def`      |`from`     |`nonlocal` |`while`  |\n",
    "> |`and`      |`del`      |`global`   |`not`      |`with`   |\n",
    "> |`as`       |`elif`     |`if`       |`or`       |`yield`  |\n",
    "> |`assert`   |`else`     |`import`   |`pass`     |         |\n",
    "> |`break`    |`except`   |`in`       |`raise`    |         |\n",
    "\n",
    "> *Remarque* : Seuls `False`, `None` et `True` commencent ici avec une majuscule."
   ]
  },
  {
   "cell_type": "markdown",
   "metadata": {},
   "source": [
    "---\n",
    "\n",
    "> **Exercice.** Dans les trois scripts suivants, il y a des erreurs, corriger les."
   ]
  },
  {
   "cell_type": "code",
   "execution_count": null,
   "metadata": {
    "collapsed": true
   },
   "outputs": [],
   "source": [
    "bronze = trois\n",
    "argent = two\n",
    "or = 1\n",
    "ma place = 4"
   ]
  },
  {
   "cell_type": "code",
   "execution_count": null,
   "metadata": {
    "collapsed": true
   },
   "outputs": [],
   "source": [
    "2ame = 10\n",
    "roi = 10\n",
    "as = 11"
   ]
  },
  {
   "cell_type": "code",
   "execution_count": null,
   "metadata": {
    "collapsed": true
   },
   "outputs": [],
   "source": [
    "π/2 = 3,14/2"
   ]
  },
  {
   "cell_type": "code",
   "execution_count": null,
   "metadata": {},
   "outputs": [],
   "source": [
    "# Solutions : lancer le script suivant\n",
    "print(\"                                                                                                          \\n'trois' n'existe pas.\\n'two', en anglais, non plus.\\n'or' est un mot réservé.\\n'ma place' ne doit pas contenir d'espace.\")"
   ]
  },
  {
   "cell_type": "markdown",
   "metadata": {},
   "source": [
    "---\n",
    "\n",
    "**Exemple.** Cet exemple très méchant montre le danger d'utiliser certains caractères."
   ]
  },
  {
   "cell_type": "code",
   "execution_count": 6,
   "metadata": {},
   "outputs": [
    {
     "name": "stdout",
     "output_type": "stream",
     "text": [
      "42\n"
     ]
    }
   ],
   "source": [
    "value = 42\n",
    "valuе = 1000\n",
    "print(value)"
   ]
  },
  {
   "cell_type": "markdown",
   "metadata": {},
   "source": [
    "**Explication** :\n",
    "- le premier `value` est écrit avec des caractères directement accessible au clavier, la dernière lettre est un 'e' latin dont le code est 101.\n",
    "- le second `valuе` se termine par un 'е' cyrilique dont le code est 1077. Visuellement identique, ce n'est pas le même caractère, et donc il y a deux variables différentes. Le piège est redoutable.\n",
    "- ce n'était pas une réaffectation et le 'print' agit sur la première variable...\n",
    "\n",
    "*Further reading : [WTFPython](https://github.com/satwikkansal/wtfpython)*"
   ]
  },
  {
   "cell_type": "markdown",
   "metadata": {},
   "source": [
    "## 2) Premières listes\n",
    "#### Définition\n",
    "Pour définir une liste en Python, on place des éléments entre crochets.  \n",
    "On peut faire des listes vides, ou composées d'éléments de même types ou non.\n"
   ]
  },
  {
   "cell_type": "code",
   "execution_count": 17,
   "metadata": {
    "collapsed": true
   },
   "outputs": [],
   "source": [
    "ma_liste0 = []  # une liste vide\n",
    "ma_liste1 = [26, 7, 84, 30] # une liste de 4 entiers\n",
    "ma_liste2 = [\"du texte\", \"encore des mots\", \"fini\"]  # une liste de trois chaînes de caractères\n",
    "ma_liste3 = [0, \"un\", 2.0, (ma_liste0, ma_liste1, ma_liste2)] # 4 éléments de type variés\n",
    "ma_liste4 = [ma_liste3] # 1 seul élément, qui est une liste"
   ]
  },
  {
   "cell_type": "markdown",
   "metadata": {},
   "source": [
    "#### Opérations\n",
    "- On peut concatener deux listes, avec <kbd>+</kbd>, attention, ce n'est pas commutatif\n",
    "- On peut démultiplier une liste, avec <kbd>*</kbd>, c'est bien commutatif"
   ]
  },
  {
   "cell_type": "code",
   "execution_count": 21,
   "metadata": {},
   "outputs": [
    {
     "name": "stdout",
     "output_type": "stream",
     "text": [
      "[2, 15, 6, 101, 1106]\n",
      "[101, 1106, 2, 15, 6]\n"
     ]
    }
   ],
   "source": [
    "premiers_cas = [2, 15, 6]\n",
    "seconds_cas = [101, 1106]\n",
    "print(premiers_cas + seconds_cas)\n",
    "print(seconds_cas + premiers_cas)"
   ]
  },
  {
   "cell_type": "code",
   "execution_count": 20,
   "metadata": {},
   "outputs": [
    {
     "name": "stdout",
     "output_type": "stream",
     "text": [
      "[4, 8, 13, 4, 8, 13, 4, 8, 13, 4, 8, 13, 4, 8, 13]\n"
     ]
    }
   ],
   "source": [
    "petite_liste = [4, 8, 13]\n",
    "print(petite_liste * 5)"
   ]
  },
  {
   "cell_type": "markdown",
   "metadata": {},
   "source": [
    "#### Utilisation classique : l'itération\n",
    "On peut répéter les mêmes instructions sur chacun des éléments d'une liste.   \n",
    "On itère sur les éléments d'une liste avec une boucle <kbd>for</kbd>."
   ]
  },
  {
   "cell_type": "code",
   "execution_count": 25,
   "metadata": {},
   "outputs": [
    {
     "name": "stdout",
     "output_type": "stream",
     "text": [
      "503\n",
      "1103\n",
      "1703\n"
     ]
    }
   ],
   "source": [
    "for x in [5, 11, 17]:\n",
    "    print(100*x + 3)"
   ]
  },
  {
   "cell_type": "markdown",
   "metadata": {},
   "source": [
    "On peut aussi créer une liste par itération d'une autre, ce qui permet de construire un tableau de valeur pour une fonction.   \n",
    "Par exemple, avec la fonction $x \\mapsto 100x + 1$, sur les valeurs $[12, 23, 37, 75]$."
   ]
  },
  {
   "cell_type": "code",
   "execution_count": 26,
   "metadata": {},
   "outputs": [
    {
     "name": "stdout",
     "output_type": "stream",
     "text": [
      "[1201, 2301, 3701, 7501]\n"
     ]
    }
   ],
   "source": [
    "x_liste = [12, 23, 37, 75]\n",
    "y_liste = [100*x + 1   for x in x_liste]\n",
    "print(y_liste)"
   ]
  },
  {
   "cell_type": "code",
   "execution_count": null,
   "metadata": {
    "collapsed": true
   },
   "outputs": [],
   "source": []
  }
 ],
 "metadata": {
  "kernelspec": {
   "display_name": "Python 3",
   "language": "python",
   "name": "python3"
  },
  "language_info": {
   "codemirror_mode": {
    "name": "ipython",
    "version": 3
   },
   "file_extension": ".py",
   "mimetype": "text/x-python",
   "name": "python",
   "nbconvert_exporter": "python",
   "pygments_lexer": "ipython3",
   "version": "3.6.3"
  }
 },
 "nbformat": 4,
 "nbformat_minor": 2
}
