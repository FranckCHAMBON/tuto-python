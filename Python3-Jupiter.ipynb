{
 "cells": [
  {
   "cell_type": "markdown",
   "metadata": {},
   "source": [
    "![](https://www.python.org/static/community_logos/python-logo-generic.svg)\n",
    "\n",
    "# Algorithmique au lycée avec Python3 et Jupyter ![](http://jupyter.org/assets/main-logo.svg)\n",
    "\n",
    "\n",
    "---\n",
    "\n",
    "### Instruction de bienvenue ; une tradition\n",
    "Pour lancer une cellule de calcul ( `In [ ]:` ), cliquer-la et taper <kbd>MAJ.+ENTRÉE</kbd> (* <kbd>SHIFT+RETURN</kbd> in english*)"
   ]
  },
  {
   "cell_type": "code",
   "execution_count": 1,
   "metadata": {},
   "outputs": [
    {
     "name": "stdout",
     "output_type": "stream",
     "text": [
      "Hello World!\n",
      "Bonjour à tous !\n"
     ]
    }
   ],
   "source": [
    "print(\"Hello World!\")\n",
    "print(\"Bonjour à tous !\")"
   ]
  },
  {
   "cell_type": "markdown",
   "metadata": {},
   "source": [
    "## I] Introduction\n",
    "\n",
    " https://fr.wikipedia.org/wiki/Python_(langage)\n",
    " \n",
    " Python3 est un langage de programmation répandu dans le monde de l'éducation et le monde scientifique. Il est idéal pour s'initier à l'algorithmique au lycée, mais aussi pour faire ses premiers programmes de dévellopement. Il est aussi un outil de base de nombreux scientifiques.\n",
    " \n",
    "[![Une jolie figure d'illustration](Pyth.svg)](https://commons.wikimedia.org/wiki/Category:Pythagoras_trees#/media/File:Pythagoras_tree_1_0_8_13_hot.svg)\n",
    "\n",
    "Ce document se veut une première approche du langage, à destination des lycéens, de leur parents, ou de qui veut débuter l'algorithmique. Il contient à la fin des références pour les prochaines lectures ainsi que pour d'autres exercices."
   ]
  },
  {
   "cell_type": "markdown",
   "metadata": {},
   "source": [
    "### A] On peut d'abord s'en servir comme d'une calculatrice\n",
    "\n",
    "#### A.1) Voici les 3 opérations élémentaires :\n",
    "\n",
    "L'addition <kbd>+</kbd>, la soustraction <kbd>-</kbd> et la multiplication <kbd>*</kbd> respectent les règles de priorités.\n",
    "\n",
    "> Les multiplications doivent être *explicites*.\n"
   ]
  },
  {
   "cell_type": "code",
   "execution_count": 2,
   "metadata": {},
   "outputs": [
    {
     "data": {
      "text/plain": [
       "33"
      ]
     },
     "execution_count": 2,
     "metadata": {},
     "output_type": "execute_result"
    }
   ],
   "source": [
    "7 + 13*(7-5)   # Il est conseillé, comme en maths, d'espacer les opérations non prioritaires"
   ]
  },
  {
   "cell_type": "markdown",
   "metadata": {},
   "source": [
    "**TODO** : Mettre ici quelques exercices simples\n",
    "\n",
    "a) Quel est le produit de la somme de 7 et 11 par 9 ?\n",
    "\n",
    "b) Quelle est la différence entre le produit de 6 par 7 et la somme de 28 et 39 ?\n",
    "\n",
    "c) ...\n"
   ]
  },
  {
   "cell_type": "code",
   "execution_count": null,
   "metadata": {
    "collapsed": true
   },
   "outputs": [],
   "source": [
    "# a) Compléter ici ou en dessous l'expression numérique\n",
    " 7 11 9"
   ]
  },
  {
   "cell_type": "code",
   "execution_count": null,
   "metadata": {
    "collapsed": true
   },
   "outputs": [],
   "source": []
  },
  {
   "cell_type": "code",
   "execution_count": null,
   "metadata": {
    "collapsed": true
   },
   "outputs": [],
   "source": []
  },
  {
   "cell_type": "markdown",
   "metadata": {},
   "source": [
    "\n",
    "#### A.2) Premières variables et leur affichage\n",
    "\n",
    "Pour conserver un résultat en mémoire, on utilise une variable et une affectation avec <kbd>=</kbd>.\n",
    "\n",
    "Une variable s'écrit avec une ou plusieurs lettres, et/ou chiffres, *sans commencer par un chiffre*.\n",
    "\n",
    "Avec <kbd>print</kbd>, on peut afficher du texte, puis un nombre, et enchaîner en séparant avec une virgule <kbd>,</kbd>."
   ]
  },
  {
   "cell_type": "code",
   "execution_count": 3,
   "metadata": {},
   "outputs": [
    {
     "name": "stdout",
     "output_type": "stream",
     "text": [
      "Le résultat final est 120\n"
     ]
    }
   ],
   "source": [
    "x = 20 - 3*5  # x est affecté à 5\n",
    "x = 2*x + 1   # x est réaffecté à 11\n",
    "y = x*x - 1\n",
    "print(\"Le résultat final est\", y)"
   ]
  },
  {
   "cell_type": "markdown",
   "metadata": {},
   "source": [
    "> **Exercice.** On commence avec $x=12$ et $y=5$, on répète trois fois :\n",
    "> - $x \\leftarrow x\\times y$, i.e. dans $x$ on place le produit de $x$ par $y$\n",
    "> - $y \\leftarrow x+y$, i.e. dans $y$ on place la somme de $x$ et $y$\n",
    "\n",
    "> Afficher $x$ et $y$\n"
   ]
  },
  {
   "cell_type": "code",
   "execution_count": null,
   "metadata": {
    "collapsed": true
   },
   "outputs": [],
   "source": [
    "x, y = 12, 5   # Il s'agit là d'une affectation parallèle, c'est légal.\n",
    "\n",
    "\n",
    "# Continuer\n",
    "# Les commentaires commencent par un croisillon '#' (ce n'est pas un dièse).\n",
    "\n"
   ]
  },
  {
   "cell_type": "markdown",
   "metadata": {},
   "source": [
    "#### A.3) Il y a deux divisions :\n",
    "\n",
    "- la division euclidienne de $a$ par $b$, avec un quotient entier et un reste inférieur à $b$\n",
    "    - le quotient s'obtient avec <kbd>a//b</kbd>\n",
    "    - le reste s'obtient avec <kbd>a%b</kbd>\n",
    "    \n",
    "- la division non abrégée (ou longue) de $a$ par $b$, sans reste, avec <kbd>a/b</kbd>\n"
   ]
  },
  {
   "cell_type": "code",
   "execution_count": 4,
   "metadata": {},
   "outputs": [
    {
     "name": "stdout",
     "output_type": "stream",
     "text": [
      "Le quotient de 157 divisé par 10 est égal à 15\n",
      "Le reste dans 157 divisé par 10 est égal à 7\n",
      "La division non abrégée de 157 par 10 a pour résultat 15.7\n"
     ]
    }
   ],
   "source": [
    "print(\"Le quotient de 157 divisé par 10 est égal à\", 157//10)\n",
    "print(\"Le reste dans 157 divisé par 10 est égal à\", 157%10)\n",
    "print(\"La division non abrégée de 157 par 10 a pour résultat\", 157/10)"
   ]
  },
  {
   "cell_type": "markdown",
   "metadata": {},
   "source": [
    "> **Remarque :** En informatique, influencé par le monde anglo-saxon, on utilise le point comme séparateur décimal, et la virgule comme séparateur dans une liste. Voilà une erreur sémentique qui peut se produire pour les Français :"
   ]
  },
  {
   "cell_type": "code",
   "execution_count": 5,
   "metadata": {},
   "outputs": [
    {
     "data": {
      "text/plain": [
       "76.73"
      ]
     },
     "execution_count": 5,
     "metadata": {},
     "output_type": "execute_result"
    }
   ],
   "source": [
    "55.6 + 21.13 # somme de deux nombres à virgule"
   ]
  },
  {
   "cell_type": "code",
   "execution_count": 6,
   "metadata": {},
   "outputs": [
    {
     "data": {
      "text/plain": [
       "(55, 27, 13)"
      ]
     },
     "execution_count": 6,
     "metadata": {},
     "output_type": "execute_result"
    }
   ],
   "source": [
    "55,6 + 21,13 # triplet de nombres : 55 puis 6+21, et enfin 13"
   ]
  },
  {
   "cell_type": "markdown",
   "metadata": {},
   "source": [
    "#### A.4) La puissance s'obtient avec <kbd>**</kbd>\n",
    "> Un gros avantage de Python sur la calculatrice, c'est sa capacité à travailler avec des entiers aussi grands que la mémoire de l'ordinateur le permet, de grands entiers donc. Afficher un nombre gigantesque est long, mais on peut travailler assez rapidement avec, sans l'afficher !!!\n"
   ]
  },
  {
   "cell_type": "code",
   "execution_count": 7,
   "metadata": {},
   "outputs": [
    {
     "data": {
      "text/plain": [
       "125"
      ]
     },
     "execution_count": 7,
     "metadata": {},
     "output_type": "execute_result"
    }
   ],
   "source": [
    "5**3"
   ]
  },
  {
   "cell_type": "code",
   "execution_count": 8,
   "metadata": {
    "scrolled": true
   },
   "outputs": [
    {
     "data": {
      "text/plain": [
       "221380413535717951381719900889598385877985018125157963549526209949411353588054056060808889443572049605826203407737866682728901508127084151522949268748976128136645054322872994134741020388901233673095703125"
      ]
     },
     "execution_count": 8,
     "metadata": {},
     "output_type": "execute_result"
    }
   ],
   "source": [
    "45**123"
   ]
  },
  {
   "cell_type": "code",
   "execution_count": 9,
   "metadata": {},
   "outputs": [
    {
     "data": {
      "text/plain": [
       "2.2138041353571795e+203"
      ]
     },
     "execution_count": 9,
     "metadata": {},
     "output_type": "execute_result"
    }
   ],
   "source": [
    "45.0**123"
   ]
  },
  {
   "cell_type": "markdown",
   "metadata": {},
   "source": [
    "#### A.5) La notation scientifique s'obtient avec <kbd>e</kbd>\n",
    "> <kbd>6.0221409e+23</kbd> signifie $6,\\!0221409\\times10^{23}$, un grand nombre positif, le nombre d'Avogadro, une mole.\n",
    "\n",
    "> <kbd>9.109e-31</kbd> signifie $9,\\!109\\times10^{-31}$, un petit nombre positif, la masse d'un électron, en kg."
   ]
  },
  {
   "cell_type": "code",
   "execution_count": 10,
   "metadata": {},
   "outputs": [
    {
     "name": "stdout",
     "output_type": "stream",
     "text": [
      "Une mole d'électron a une masse de 5.48556814581e-07 kg.\n"
     ]
    }
   ],
   "source": [
    "m = 6.0221409e+23 * 9.109e-31\n",
    "print(\"Une mole d'électron a une masse de\", m, \"kg.\")"
   ]
  },
  {
   "cell_type": "markdown",
   "metadata": {},
   "source": [
    "> **Exercice A1.** a) Quels sont les deux derniers chiffres de $123$ à la puissance $789$ ?\n",
    "> *Sans afficher les autres chiffres !*\n",
    "\n",
    "> b) $12\\,345$ à la puissance $67\\,890$ est gigantesque, quels sont ses 9 derniers chiffres ?\n"
   ]
  },
  {
   "cell_type": "code",
   "execution_count": null,
   "metadata": {
    "collapsed": true
   },
   "outputs": [],
   "source": [
    "# À vous de jouer !"
   ]
  },
  {
   "cell_type": "markdown",
   "metadata": {},
   "source": [
    "#### A.6) En informatique, on utilise massivement l'anglais\n",
    "\n",
    "\n",
    "| *English*       | Français |\n",
    "| ---------------:|:---------|\n",
    "| *print*         | affiche |\n",
    "| *assignement*   | affectation |\n",
    "| *coma*          | virgule |\n",
    "| *to the power*  | à la puissance |\n",
    "| *integer*       | entier |\n",
    "| * digit *       | chiffre |\n",
    "| * sharp * (#)   | croisillon (#) |\n",
    "| * library *     | bibliothèque |\n",
    "\n",
    "Attention aux faux amis, en informatique :\n",
    "- on ne dit pas 'assignation', mais 'affectation' ; assignation est un terme juridique\n",
    "- on ne dit pas 'digital', mais 'numérique' ; digital est en rapport avec les doigts de la main\n",
    "- on ne dit pas 'librairie', mais bibliothèque ; un ensemble de fichiers contenant des morceaux de codes utilisés souvent. 'Librairie' se traduit par '(UK) Bookshop' ou '(US) Bookstore'\n",
    "- On ne devrait pas dire 'hashtag', ni 'dièse' pour #, mais '*sharp*' ou 'croisillon'"
   ]
  },
  {
   "cell_type": "markdown",
   "metadata": {},
   "source": [
    "## II] Quelques compléments\n",
    "\n",
    "### II.A] Utilisations de logiciels\n",
    "\n",
    "#### II.A.1) Installation d'Anaconda\n",
    "Pour installer Python, le plus simple, efficace, et complet est :\n",
    "\n",
    "- Installer [Anaconda](https://www.anaconda.com/download/), choisir Python 3.\n",
    "- Windows : ??? Choisir une installation à la racine facilite la création des liens. ???\n",
    "- Windows : ??? PATH ???\n",
    "- Ouvrir une console (un terminal, une invite de commande) et entrer <kbd>jupyter notebook</kbd>, un onglet Jupyter doit s'ouvrir dans votre navigateur, ...\n",
    "\n",
    "> Cela fournit une distribution de logiciels scientifiques autour de Python, libres et multiplateforme (Windows, macOS, Linux), dont Jupyter. Ce sont des logiciels libres, donc gratuits, et dont le code source est vérifiable !\n",
    "\n",
    "> Il est aussi possible de [tester en ligne Jupyter](https://try.jupyter.org/) sans rien installer.\n",
    "\n",
    "#### II.A.2) Installation d'un éditeur de code\n",
    "Pour écrire un plus long script que l'on enregistre dans un fichier, afin de travailler en plusieurs fois dessus, il est conseillé d'utiliser un Environnements de développement intégré ([EDI](https://fr.wikipedia.org/wiki/Environnement_de_d%C3%A9veloppement#Environnements_de_d.C3.A9veloppement_int.C3.A9gr.C3.A9)). *IDE : Integrated Development Environment*.\n",
    "\n",
    "Il existe plusieurs IDE légers, libres et multiplateformes (Windows, macOS, Linux).\n",
    "- [Atom](https://atom.io/) : très moderne, non conseillé pour débuter\n",
    "- [Code::Blocks](http://www.codeblocks.org/features)\n",
    "- [Geany](https://www.geany.org/) : très facile et complet, **idéal pour débuter**\n",
    "- [Liste plus importante](https://wiki.python.org/moin/PythonEditors)\n",
    "\n",
    "#### II.A.3) Configuration de Geany\n",
    "Pour vérifier la bonne installation de Python et son accessibilité :\n",
    "\n",
    "- Créer avec Geany un nouveau fichier contenant ces deux lignes :\n",
    "\n",
    "> `import sys`\n",
    "\n",
    "> `print(sys.version)`\n",
    "\n",
    "- Sauvegarder en tant que <kbd>test.py</kbd>, l'extension <kbd>.py</kbd> est fondamentale !\n",
    "- L'appui de <kbd>F5</kbd> lance le programme, le résultat doit s'afficher dans un terminal à part, et ressembler à ça :\n"
   ]
  },
  {
   "cell_type": "code",
   "execution_count": 11,
   "metadata": {},
   "outputs": [
    {
     "name": "stdout",
     "output_type": "stream",
     "text": [
      "3.6.3 |Anaconda custom (64-bit)| (default, Oct 13 2017, 12:02:49) \n",
      "[GCC 7.2.0]\n"
     ]
    }
   ],
   "source": [
    "import sys\n",
    "print(sys.version)"
   ]
  },
  {
   "cell_type": "markdown",
   "metadata": {},
   "source": [
    "Ensuite, pour améliorer l'ergonomie de l'éditeur, aller dans le menu → Éditer → Préférences\n",
    "- Interface → Interface → Police → DejaVu Sans Mono, en taille 14 (**MONO** est très important)\n",
    "- Éditeur → Complétions → Fermeture automatique → tout sauf les guillemets simples.\n",
    "- Éditeur → Affichage → Inverser les couleurs, afficher les guides et les espaces."
   ]
  },
  {
   "cell_type": "markdown",
   "metadata": {},
   "source": [
    "#### II.A.4) Configuration de Atom ; pour les téméraires\n",
    "Aller dans menu → *Edit* → *Preferences* → + *Install*\n",
    "\n",
    "- Dans le champ *Search packages* , écrire <kbd>french</kbd>, et installer le paquet `french-menu`\n",
    "- De même, chercher et installer `atom-python-run` (ou `Hydrogen` pour les plus sportifs)"
   ]
  },
  {
   "cell_type": "markdown",
   "metadata": {},
   "source": [
    "\n",
    "#### B.2) L'affectation multiple ou parallèle\n",
    "\n",
    "Voir https://fr.wikipedia.org/wiki/Affectation_(informatique)\n",
    "\n",
    "Avec Python, l'affectation multiple est possible, ainsi que l'affectation parallèle."
   ]
  },
  {
   "cell_type": "code",
   "execution_count": 12,
   "metadata": {},
   "outputs": [
    {
     "name": "stdout",
     "output_type": "stream",
     "text": [
      "7 7 8 9\n"
     ]
    }
   ],
   "source": [
    "a = b = 7 # une affectation multiple\n",
    "c, d = 8, 9 # une affectation parallèle\n",
    "print(a, b, c, d)"
   ]
  },
  {
   "cell_type": "markdown",
   "metadata": {},
   "source": [
    "Pour l'affectation parallèle, l'évaluation se fait d'abord, puis les affectations."
   ]
  },
  {
   "cell_type": "code",
   "execution_count": 13,
   "metadata": {},
   "outputs": [
    {
     "name": "stdout",
     "output_type": "stream",
     "text": [
      "On obtient a = 5  , et b = 6\n"
     ]
    }
   ],
   "source": [
    "a, b = 2, 3\n",
    "a, b = a+b, a*b\n",
    "print(\"On obtient a =\", a, \" , et b =\", b)"
   ]
  },
  {
   "cell_type": "markdown",
   "metadata": {},
   "source": [
    "#### B.3) Les noms de variables\n",
    "On ne peut pas choisir n’importe quel nom pour une variable.\n",
    "De manière synthétique, on a :\n",
    "- **Conseil :** N’utiliser que les caractères : `a→z`, `A→Z` , `0→9` et `_`\n",
    "- **Obligatoire :** Ne pas débuter par un chiffre\n",
    "- **Conseil :** <kbd>choisir_un_nom_de_variable_lisible</kbd>, <kbd>nepaschoisirunnomdevariableillisible</kbd>, <kbd>choisirUnNomDeVariablePlusLisible</kbd>\n",
    "- *Exemples :* <kbd>nombre_dOr</kbd>, <kbd>a15</kbd> sont valides et lisibles\n",
    "- *Attention :* <kbd>niter</kbd>, <kbd>nIter</kbd>, <kbd>NITER</kbd> sont trois variables différentes, la seconde étant la plus lisible des trois\n",
    "- *remarque :* les lettres Unicode sont autorisées comme <kbd>Çå_Ãĺòŕš</kbd>, mais non conseillées\n",
    "\n",
    "> Il y a **33 mots réservés** qui ne peuvent pas être utilisés pour des variables.\n",
    "\n",
    "> |           |           |           |           |         |\n",
    "> |:----------|:----------|:----------|:----------|:--------|\n",
    "> |`False`    |`class`    |`finally`  |`is`       |`return` |\n",
    "> |`None`     |`continue` |`for`      |`lambda`   |`try`    |\n",
    "> |`True`     |`def`      |`from`     |`nonlocal` |`while`  |\n",
    "> |`and`      |`del`      |`global`   |`not`      |`with`   |\n",
    "> |`as`       |`elif`     |`if`       |`or`       |`yield`  |\n",
    "> |`assert`   |`else`     |`import`   |`pass`     |         |\n",
    "> |`break`    |`except`   |`in`       |`raise`    |         |\n",
    "\n",
    "> *Remarque* : Seuls `False`, `None` et `True` commencent ici avec une majuscule."
   ]
  },
  {
   "cell_type": "markdown",
   "metadata": {
    "collapsed": true
   },
   "source": [
    "#### B.4) Quelques types de variables\n",
    "En maths `7.0 = 7`, mais pour Python même si une comparaison par évaluation donne `True` (vrai), le premier nombre est de type `float` (* **float**ing point number* -- nombre en virgule flotante)\n",
    "\n",
    "| Type | Example | full english name | nom complet |"
   ]
  },
  {
   "cell_type": "code",
   "execution_count": 14,
   "metadata": {},
   "outputs": [
    {
     "data": {
      "text/plain": [
       "sys.float_info(max=1.7976931348623157e+308, max_exp=1024, max_10_exp=308, min=2.2250738585072014e-308, min_exp=-1021, min_10_exp=-307, dig=15, mant_dig=53, epsilon=2.220446049250313e-16, radix=2, rounds=1)"
      ]
     },
     "execution_count": 14,
     "metadata": {},
     "output_type": "execute_result"
    }
   ],
   "source": [
    "import sys\n",
    "sys.float_info"
   ]
  },
  {
   "cell_type": "code",
   "execution_count": null,
   "metadata": {
    "collapsed": true
   },
   "outputs": [],
   "source": []
  }
 ],
 "metadata": {
  "kernelspec": {
   "display_name": "Python 3",
   "language": "python",
   "name": "python3"
  },
  "language_info": {
   "codemirror_mode": {
    "name": "ipython",
    "version": 3
   },
   "file_extension": ".py",
   "mimetype": "text/x-python",
   "name": "python",
   "nbconvert_exporter": "python",
   "pygments_lexer": "ipython3",
   "version": "3.6.3"
  }
 },
 "nbformat": 4,
 "nbformat_minor": 2
}
